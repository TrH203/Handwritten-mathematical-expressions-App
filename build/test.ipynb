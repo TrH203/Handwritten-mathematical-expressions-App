{
 "cells": [
  {
   "cell_type": "code",
   "execution_count": null,
   "metadata": {},
   "outputs": [],
   "source": [
    "import PIL.ImageShow\n",
    "import matplotlib.pyplot as plt\n",
    "import io\n",
    "from PIL import Image\n",
    "import PIL\n",
    "import numpy as np\n",
    "# from pdf2image import convert_from_path\n",
    "\n",
    "latex_str = r\"\\theta^2 = x_1 + y-2\"\n",
    "\n",
    "def latex_to_png(latex_str):\n",
    "    plt\n",
    "    plt.axis(\"off\")\n",
    "    _ = plt.text(0.5,0.5, f\"${latex_str}$\", size=50, ha=\"center\",va=\"center\")\n",
    "    img_buffer = io.BytesIO()\n",
    "    plt.savefig(img_buffer, format=\"png\", bbox_inches=\"tight\", pad_inches=0.1)\n",
    "    im = Image.open(img_buffer)\n",
    "\n",
    "    img_buffer.close()\n",
    "\n",
    "latex_to_png(latex_str)"
   ]
  },
  {
   "cell_type": "code",
   "execution_count": 34,
   "metadata": {},
   "outputs": [
    {
     "data": {
      "text/plain": [
       "<Figure size 640x480 with 0 Axes>"
      ]
     },
     "metadata": {},
     "output_type": "display_data"
    }
   ],
   "source": [
    "import matplotlib.pyplot as plt\n",
    "import io\n",
    "from PIL import Image\n",
    "\n",
    "def latex_to_png(latex_str):\n",
    "    # Create a figure and turn off axis\n",
    "    fig, ax = plt.subplots()\n",
    "    ax.axis(\"off\")\n",
    "\n",
    "    # Add LaTeX string to the plot and suppress the output\n",
    "    _ = ax.text(0.5, 0.5, f\"${latex_str}$\", size=50, ha=\"center\", va=\"center\")\n",
    "\n",
    "    # Save the figure to a BytesIO buffer\n",
    "    img_buffer = io.BytesIO()\n",
    "    plt.savefig(img_buffer, format=\"png\", bbox_inches=\"tight\", pad_inches=0.1)\n",
    "\n",
    "    # Clear the current figure to suppress interactive output\n",
    "    plt.gcf().clear()\n",
    "\n",
    "    # Seek to the beginning of the buffer before opening it as an image\n",
    "    img_buffer.seek(0)\n",
    "    im = Image.open(img_buffer)\n",
    "\n",
    "    # Close the buffer after the image has been loaded\n",
    "    img_buffer.close()\n",
    "\n",
    "    return im\n",
    "\n",
    "# Example usage\n",
    "latex_str = r\"\\theta^2 = x_1 + y-2\"\n",
    "image = latex_to_png(latex_str)\n",
    "# image.show()\n"
   ]
  },
  {
   "cell_type": "code",
   "execution_count": 35,
   "metadata": {},
   "outputs": [
    {
     "ename": "ValueError",
     "evalue": "I/O operation on closed file.",
     "output_type": "error",
     "traceback": [
      "\u001b[1;31m---------------------------------------------------------------------------\u001b[0m",
      "\u001b[1;31mValueError\u001b[0m                                Traceback (most recent call last)",
      "Cell \u001b[1;32mIn[35], line 1\u001b[0m\n\u001b[1;32m----> 1\u001b[0m \u001b[43mimage\u001b[49m\u001b[38;5;241;43m.\u001b[39;49m\u001b[43mshow\u001b[49m\u001b[43m(\u001b[49m\u001b[43m)\u001b[49m\n",
      "File \u001b[1;32mc:\\Users\\ADMIN\\CDIO4\\.env\\lib\\site-packages\\PIL\\Image.py:2623\u001b[0m, in \u001b[0;36mImage.show\u001b[1;34m(self, title)\u001b[0m\n\u001b[0;32m   2603\u001b[0m \u001b[38;5;28;01mdef\u001b[39;00m \u001b[38;5;21mshow\u001b[39m(\u001b[38;5;28mself\u001b[39m, title: \u001b[38;5;28mstr\u001b[39m \u001b[38;5;241m|\u001b[39m \u001b[38;5;28;01mNone\u001b[39;00m \u001b[38;5;241m=\u001b[39m \u001b[38;5;28;01mNone\u001b[39;00m) \u001b[38;5;241m-\u001b[39m\u001b[38;5;241m>\u001b[39m \u001b[38;5;28;01mNone\u001b[39;00m:\n\u001b[0;32m   2604\u001b[0m \u001b[38;5;250m    \u001b[39m\u001b[38;5;124;03m\"\"\"\u001b[39;00m\n\u001b[0;32m   2605\u001b[0m \u001b[38;5;124;03m    Displays this image. This method is mainly intended for debugging purposes.\u001b[39;00m\n\u001b[0;32m   2606\u001b[0m \n\u001b[1;32m   (...)\u001b[0m\n\u001b[0;32m   2620\u001b[0m \u001b[38;5;124;03m    :param title: Optional title to use for the image window, where possible.\u001b[39;00m\n\u001b[0;32m   2621\u001b[0m \u001b[38;5;124;03m    \"\"\"\u001b[39;00m\n\u001b[1;32m-> 2623\u001b[0m     \u001b[43m_show\u001b[49m\u001b[43m(\u001b[49m\u001b[38;5;28;43mself\u001b[39;49m\u001b[43m,\u001b[49m\u001b[43m \u001b[49m\u001b[43mtitle\u001b[49m\u001b[38;5;241;43m=\u001b[39;49m\u001b[43mtitle\u001b[49m\u001b[43m)\u001b[49m\n",
      "File \u001b[1;32mc:\\Users\\ADMIN\\CDIO4\\.env\\lib\\site-packages\\PIL\\Image.py:3734\u001b[0m, in \u001b[0;36m_show\u001b[1;34m(image, **options)\u001b[0m\n\u001b[0;32m   3731\u001b[0m \u001b[38;5;28;01mdef\u001b[39;00m \u001b[38;5;21m_show\u001b[39m(image: Image, \u001b[38;5;241m*\u001b[39m\u001b[38;5;241m*\u001b[39moptions: Any) \u001b[38;5;241m-\u001b[39m\u001b[38;5;241m>\u001b[39m \u001b[38;5;28;01mNone\u001b[39;00m:\n\u001b[0;32m   3732\u001b[0m     \u001b[38;5;28;01mfrom\u001b[39;00m \u001b[38;5;21;01m.\u001b[39;00m \u001b[38;5;28;01mimport\u001b[39;00m ImageShow\n\u001b[1;32m-> 3734\u001b[0m     ImageShow\u001b[38;5;241m.\u001b[39mshow(image, \u001b[38;5;241m*\u001b[39m\u001b[38;5;241m*\u001b[39moptions)\n",
      "File \u001b[1;32mc:\\Users\\ADMIN\\CDIO4\\.env\\lib\\site-packages\\PIL\\ImageShow.py:64\u001b[0m, in \u001b[0;36mshow\u001b[1;34m(image, title, **options)\u001b[0m\n\u001b[0;32m     55\u001b[0m \u001b[38;5;250m\u001b[39m\u001b[38;5;124mr\u001b[39m\u001b[38;5;124;03m\"\"\"\u001b[39;00m\n\u001b[0;32m     56\u001b[0m \u001b[38;5;124;03mDisplay a given image.\u001b[39;00m\n\u001b[0;32m     57\u001b[0m \n\u001b[1;32m   (...)\u001b[0m\n\u001b[0;32m     61\u001b[0m \u001b[38;5;124;03m:returns: ``True`` if a suitable viewer was found, ``False`` otherwise.\u001b[39;00m\n\u001b[0;32m     62\u001b[0m \u001b[38;5;124;03m\"\"\"\u001b[39;00m\n\u001b[0;32m     63\u001b[0m \u001b[38;5;28;01mfor\u001b[39;00m viewer \u001b[38;5;129;01min\u001b[39;00m _viewers:\n\u001b[1;32m---> 64\u001b[0m     \u001b[38;5;28;01mif\u001b[39;00m viewer\u001b[38;5;241m.\u001b[39mshow(image, title\u001b[38;5;241m=\u001b[39mtitle, \u001b[38;5;241m*\u001b[39m\u001b[38;5;241m*\u001b[39moptions):\n\u001b[0;32m     65\u001b[0m         \u001b[38;5;28;01mreturn\u001b[39;00m \u001b[38;5;28;01mTrue\u001b[39;00m\n\u001b[0;32m     66\u001b[0m \u001b[38;5;28;01mreturn\u001b[39;00m \u001b[38;5;28;01mFalse\u001b[39;00m\n",
      "File \u001b[1;32mc:\\Users\\ADMIN\\CDIO4\\.env\\lib\\site-packages\\PIL\\ImageShow.py:88\u001b[0m, in \u001b[0;36mViewer.show\u001b[1;34m(self, image, **options)\u001b[0m\n\u001b[0;32m     85\u001b[0m     \u001b[38;5;28;01mif\u001b[39;00m image\u001b[38;5;241m.\u001b[39mmode \u001b[38;5;241m!=\u001b[39m base:\n\u001b[0;32m     86\u001b[0m         image \u001b[38;5;241m=\u001b[39m image\u001b[38;5;241m.\u001b[39mconvert(base)\n\u001b[1;32m---> 88\u001b[0m \u001b[38;5;28;01mreturn\u001b[39;00m \u001b[38;5;28mself\u001b[39m\u001b[38;5;241m.\u001b[39mshow_image(image, \u001b[38;5;241m*\u001b[39m\u001b[38;5;241m*\u001b[39moptions)\n",
      "File \u001b[1;32mc:\\Users\\ADMIN\\CDIO4\\.env\\lib\\site-packages\\PIL\\ImageShow.py:115\u001b[0m, in \u001b[0;36mViewer.show_image\u001b[1;34m(self, image, **options)\u001b[0m\n\u001b[0;32m    113\u001b[0m \u001b[38;5;28;01mdef\u001b[39;00m \u001b[38;5;21mshow_image\u001b[39m(\u001b[38;5;28mself\u001b[39m, image: Image\u001b[38;5;241m.\u001b[39mImage, \u001b[38;5;241m*\u001b[39m\u001b[38;5;241m*\u001b[39moptions: Any) \u001b[38;5;241m-\u001b[39m\u001b[38;5;241m>\u001b[39m \u001b[38;5;28mint\u001b[39m:\n\u001b[0;32m    114\u001b[0m \u001b[38;5;250m    \u001b[39m\u001b[38;5;124;03m\"\"\"Display the given image.\"\"\"\u001b[39;00m\n\u001b[1;32m--> 115\u001b[0m     \u001b[38;5;28;01mreturn\u001b[39;00m \u001b[38;5;28mself\u001b[39m\u001b[38;5;241m.\u001b[39mshow_file(\u001b[38;5;28;43mself\u001b[39;49m\u001b[38;5;241;43m.\u001b[39;49m\u001b[43msave_image\u001b[49m\u001b[43m(\u001b[49m\u001b[43mimage\u001b[49m\u001b[43m)\u001b[49m, \u001b[38;5;241m*\u001b[39m\u001b[38;5;241m*\u001b[39moptions)\n",
      "File \u001b[1;32mc:\\Users\\ADMIN\\CDIO4\\.env\\lib\\site-packages\\PIL\\ImageShow.py:111\u001b[0m, in \u001b[0;36mViewer.save_image\u001b[1;34m(self, image)\u001b[0m\n\u001b[0;32m    109\u001b[0m \u001b[38;5;28;01mdef\u001b[39;00m \u001b[38;5;21msave_image\u001b[39m(\u001b[38;5;28mself\u001b[39m, image: Image\u001b[38;5;241m.\u001b[39mImage) \u001b[38;5;241m-\u001b[39m\u001b[38;5;241m>\u001b[39m \u001b[38;5;28mstr\u001b[39m:\n\u001b[0;32m    110\u001b[0m \u001b[38;5;250m    \u001b[39m\u001b[38;5;124;03m\"\"\"Save to temporary file and return filename.\"\"\"\u001b[39;00m\n\u001b[1;32m--> 111\u001b[0m     \u001b[38;5;28;01mreturn\u001b[39;00m image\u001b[38;5;241m.\u001b[39m_dump(\u001b[38;5;28mformat\u001b[39m\u001b[38;5;241m=\u001b[39m\u001b[38;5;28mself\u001b[39m\u001b[38;5;241m.\u001b[39mget_format(image), \u001b[38;5;241m*\u001b[39m\u001b[38;5;241m*\u001b[39m\u001b[38;5;28mself\u001b[39m\u001b[38;5;241m.\u001b[39moptions)\n",
      "File \u001b[1;32mc:\\Users\\ADMIN\\CDIO4\\.env\\lib\\site-packages\\PIL\\Image.py:658\u001b[0m, in \u001b[0;36mImage._dump\u001b[1;34m(self, file, format, **options)\u001b[0m\n\u001b[0;32m    655\u001b[0m     \u001b[38;5;28;01mif\u001b[39;00m \u001b[38;5;129;01mnot\u001b[39;00m filename\u001b[38;5;241m.\u001b[39mendswith(suffix):\n\u001b[0;32m    656\u001b[0m         filename \u001b[38;5;241m=\u001b[39m filename \u001b[38;5;241m+\u001b[39m suffix\n\u001b[1;32m--> 658\u001b[0m \u001b[38;5;28;43mself\u001b[39;49m\u001b[38;5;241;43m.\u001b[39;49m\u001b[43mload\u001b[49m\u001b[43m(\u001b[49m\u001b[43m)\u001b[49m\n\u001b[0;32m    660\u001b[0m \u001b[38;5;28;01mif\u001b[39;00m \u001b[38;5;129;01mnot\u001b[39;00m \u001b[38;5;28mformat\u001b[39m \u001b[38;5;129;01mor\u001b[39;00m \u001b[38;5;28mformat\u001b[39m \u001b[38;5;241m==\u001b[39m \u001b[38;5;124m\"\u001b[39m\u001b[38;5;124mPPM\u001b[39m\u001b[38;5;124m\"\u001b[39m:\n\u001b[0;32m    661\u001b[0m     \u001b[38;5;28mself\u001b[39m\u001b[38;5;241m.\u001b[39mim\u001b[38;5;241m.\u001b[39msave_ppm(filename)\n",
      "File \u001b[1;32mc:\\Users\\ADMIN\\CDIO4\\.env\\lib\\site-packages\\PIL\\ImageFile.py:260\u001b[0m, in \u001b[0;36mImageFile.load\u001b[1;34m(self)\u001b[0m\n\u001b[0;32m    253\u001b[0m \u001b[38;5;28mself\u001b[39m\u001b[38;5;241m.\u001b[39mtile \u001b[38;5;241m=\u001b[39m [\n\u001b[0;32m    254\u001b[0m     \u001b[38;5;28mlist\u001b[39m(tiles)[\u001b[38;5;241m-\u001b[39m\u001b[38;5;241m1\u001b[39m]\n\u001b[0;32m    255\u001b[0m     \u001b[38;5;28;01mfor\u001b[39;00m _, tiles \u001b[38;5;129;01min\u001b[39;00m itertools\u001b[38;5;241m.\u001b[39mgroupby(\n\u001b[0;32m    256\u001b[0m         \u001b[38;5;28mself\u001b[39m\u001b[38;5;241m.\u001b[39mtile, \u001b[38;5;28;01mlambda\u001b[39;00m tile: (tile[\u001b[38;5;241m0\u001b[39m], tile[\u001b[38;5;241m1\u001b[39m], tile[\u001b[38;5;241m3\u001b[39m])\n\u001b[0;32m    257\u001b[0m     )\n\u001b[0;32m    258\u001b[0m ]\n\u001b[0;32m    259\u001b[0m \u001b[38;5;28;01mfor\u001b[39;00m decoder_name, extents, offset, args \u001b[38;5;129;01min\u001b[39;00m \u001b[38;5;28mself\u001b[39m\u001b[38;5;241m.\u001b[39mtile:\n\u001b[1;32m--> 260\u001b[0m     \u001b[43mseek\u001b[49m\u001b[43m(\u001b[49m\u001b[43moffset\u001b[49m\u001b[43m)\u001b[49m\n\u001b[0;32m    261\u001b[0m     decoder \u001b[38;5;241m=\u001b[39m Image\u001b[38;5;241m.\u001b[39m_getdecoder(\n\u001b[0;32m    262\u001b[0m         \u001b[38;5;28mself\u001b[39m\u001b[38;5;241m.\u001b[39mmode, decoder_name, args, \u001b[38;5;28mself\u001b[39m\u001b[38;5;241m.\u001b[39mdecoderconfig\n\u001b[0;32m    263\u001b[0m     )\n\u001b[0;32m    264\u001b[0m     \u001b[38;5;28;01mtry\u001b[39;00m:\n",
      "\u001b[1;31mValueError\u001b[0m: I/O operation on closed file."
     ]
    }
   ],
   "source": [
    "image.show()"
   ]
  },
  {
   "cell_type": "code",
   "execution_count": 36,
   "metadata": {},
   "outputs": [
    {
     "data": {
      "text/plain": [
       "<Figure size 640x480 with 0 Axes>"
      ]
     },
     "metadata": {},
     "output_type": "display_data"
    }
   ],
   "source": [
    "import matplotlib.pyplot as plt\n",
    "import io\n",
    "from PIL import Image\n",
    "\n",
    "def latex_to_png(latex_str):\n",
    "    # Create a figure and turn off axis\n",
    "    fig, ax = plt.subplots()\n",
    "    ax.axis(\"off\")\n",
    "\n",
    "    # Add LaTeX string to the plot and suppress the output\n",
    "    _ = ax.text(0.5, 0.5, f\"${latex_str}$\", size=50, ha=\"center\", va=\"center\")\n",
    "\n",
    "    # Save the figure to a BytesIO buffer\n",
    "    img_buffer = io.BytesIO()\n",
    "    plt.savefig(img_buffer, format=\"png\", bbox_inches=\"tight\", pad_inches=0.1)\n",
    "\n",
    "    # Clear the current figure to suppress interactive output\n",
    "    plt.gcf().clear()\n",
    "\n",
    "    # Seek to the beginning of the buffer before opening it as an image\n",
    "    img_buffer.seek(0)\n",
    "    im = Image.open(img_buffer).copy()  # Fully load the image into memory\n",
    "\n",
    "    # Close the buffer after the image has been loaded\n",
    "    img_buffer.close()\n",
    "\n",
    "    return im\n",
    "\n",
    "# Example usage\n",
    "latex_str = r\"\\theta^2 = x_1 + y-2\"\n",
    "image = latex_to_png(latex_str)\n",
    "image.show()  \n"
   ]
  },
  {
   "cell_type": "code",
   "execution_count": null,
   "metadata": {},
   "outputs": [],
   "source": []
  }
 ],
 "metadata": {
  "kernelspec": {
   "display_name": ".env",
   "language": "python",
   "name": "python3"
  },
  "language_info": {
   "codemirror_mode": {
    "name": "ipython",
    "version": 3
   },
   "file_extension": ".py",
   "mimetype": "text/x-python",
   "name": "python",
   "nbconvert_exporter": "python",
   "pygments_lexer": "ipython3",
   "version": "3.10.11"
  }
 },
 "nbformat": 4,
 "nbformat_minor": 2
}
